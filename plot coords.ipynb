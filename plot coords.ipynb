{
 "cells": [
  {
   "cell_type": "code",
   "execution_count": 1,
   "id": "178f1bf7",
   "metadata": {},
   "outputs": [],
   "source": [
    "import gmaps\n",
    "import pandas as pd\n"
   ]
  },
  {
   "cell_type": "code",
   "execution_count": 151,
   "id": "7ccec3ee",
   "metadata": {},
   "outputs": [],
   "source": [
    "df = pd.read_csv('pos_total.csv')"
   ]
  },
  {
   "cell_type": "code",
   "execution_count": 152,
   "id": "cd91f821",
   "metadata": {},
   "outputs": [
    {
     "data": {
      "application/vnd.jupyter.widget-view+json": {
       "model_id": "b3450d8a8055480c886e6f803b3dc25e",
       "version_major": 2,
       "version_minor": 0
      },
      "text/plain": [
       "Figure(layout=FigureLayout(height='700px', padding='3px', width='900px'))"
      ]
     },
     "metadata": {},
     "output_type": "display_data"
    }
   ],
   "source": [
    "fig = gmaps.figure(layout={\n",
    "        'width': '900px',\n",
    "        'height': '700px',\n",
    "        'padding': '3px'},\n",
    "                  center=(60.401499, 5.288671),\n",
    "                  zoom_level=10)\n",
    "\n",
    "heatmap_layer = gmaps.heatmap_layer(\n",
    "    df[['representasjonspunkt.lat', 'representasjonspunkt.lon']], \n",
    "    max_intensity=14, point_radius=5.0\n",
    ")\n",
    "fig.add_layer(heatmap_layer)\n",
    "fig"
   ]
  }
 ],
 "metadata": {
  "kernelspec": {
   "display_name": "Python 3 (ipykernel)",
   "language": "python",
   "name": "python3"
  },
  "language_info": {
   "codemirror_mode": {
    "name": "ipython",
    "version": 3
   },
   "file_extension": ".py",
   "mimetype": "text/x-python",
   "name": "python",
   "nbconvert_exporter": "python",
   "pygments_lexer": "ipython3",
   "version": "3.8.12"
  }
 },
 "nbformat": 4,
 "nbformat_minor": 5
}
